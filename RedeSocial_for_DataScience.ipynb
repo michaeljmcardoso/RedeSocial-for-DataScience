{
  "nbformat": 4,
  "nbformat_minor": 0,
  "metadata": {
    "colab": {
      "provenance": [],
      "authorship_tag": "ABX9TyOdRg0MIItbOSuN9rc8UtMK",
      "include_colab_link": true
    },
    "kernelspec": {
      "name": "python3",
      "display_name": "Python 3"
    },
    "language_info": {
      "name": "python"
    }
  },
  "cells": [
    {
      "cell_type": "markdown",
      "metadata": {
        "id": "view-in-github",
        "colab_type": "text"
      },
      "source": [
        "<a href=\"https://colab.research.google.com/github/michaeljmcardoso/RedeSocial-for-DataScience/blob/main/RedeSocial_for_DataScience.ipynb\" target=\"_parent\"><img src=\"https://colab.research.google.com/assets/colab-badge.svg\" alt=\"Open In Colab\"/></a>"
      ]
    },
    {
      "cell_type": "markdown",
      "source": [
        "# **Rede Social para Cientistas de Dados**\n",
        "\n",
        "* Este Projeto é uma adaptação do Livro Data Science do Zero.\n",
        "* No livro, você acompanha o dia a dia de um Cientista de Dados, que recebe demandas e precisa utilizar a linguagem Python para resolver problemas no seu novo emprego. O primeiro deles, é criar uma rede social dos cientista de dados chamada DataSciencester, utilizando dados dos seus colegas de trabalho.\n",
        "\n",
        "  * **Objetivo:** criar uma rede social para cientistas de dados.\n",
        "\n",
        "* Agora vamos ver como iniciar esse projeto.\n",
        " Primeiramente, iremos importar os pacotes a serem utilizados."
      ],
      "metadata": {
        "id": "Q9NQHgXD3lRz"
      }
    },
    {
      "cell_type": "code",
      "execution_count": 2,
      "metadata": {
        "id": "bu1B13H526wH"
      },
      "outputs": [],
      "source": [
        "# importando os pacotes necessários\n",
        "from collections import Counter\n",
        "from collections import defaultdict\n",
        "import matplotlib.pyplot as plt\n",
        "\n",
        "# ===============================================\n",
        "# rede social dos cientista de dados\n",
        "# ===============================================\n",
        "\n",
        "names = [\n",
        "    'Joao',\n",
        "    'Ana',\n",
        "    'Tiago',\n",
        "    'Carol',\n",
        "    'Raquel',\n",
        "    'Giuliano',\n",
        "    'Rafael',\n",
        "    'Natália',\n",
        "    'Rodrigues',\n",
        "    'Maria']\n",
        "\n",
        "users = [{'id':i, 'name':name, 'friends':[]} for i, name in enumerate(names)]\n",
        "\n",
        "friendships = [(0, 1), (0, 2), (1, 2), (1, 3), (2, 3), (3, 4),\n",
        "               (4, 5), (5, 6), (5, 7), (6, 8), (7, 8), (8, 9)]\n",
        "\n",
        "\n",
        "for i, j in friendships:\n",
        "    users[i][\"friends\"].append(users[j]) # adicionar i como amigo de j\n",
        "    users[j][\"friends\"].append(users[i]) # adicionar j como amigo de i\n"
      ]
    },
    {
      "cell_type": "code",
      "source": [
        "# ===============================================\n",
        "# contando amigos\n",
        "# ===============================================\n",
        "\n",
        "def number_of_friends(user):\n",
        "  \"\"\"quantos amigos _user_ tem?\"\"\"\n",
        "  return len(user[\"friends\"])\n",
        "\n",
        "total_connections = sum(number_of_friends(user) for user in users)\n",
        "num_users = len(users)\n",
        "avg_connections = total_connections / num_users\n"
      ],
      "metadata": {
        "id": "Rfo6qiIVOlzF"
      },
      "execution_count": 3,
      "outputs": []
    },
    {
      "cell_type": "code",
      "source": [
        "# criar uma lista (user_id, number_of_friends)\n",
        "num_friends_by_id = [(user[\"id\"], number_of_friends(user)) for user in users]\n",
        "sorted(num_friends_by_id,    # classifique a lista\n",
        "       key=lambda t: t[1],   # por num_friends\n",
        "       reverse=True)         # do maior para o menor \n"
      ],
      "metadata": {
        "colab": {
          "base_uri": "https://localhost:8080/"
        },
        "id": "dWstjVxyiZ-H",
        "outputId": "0f05249b-7ff5-4dd1-d896-292bb1001460"
      },
      "execution_count": 4,
      "outputs": [
        {
          "output_type": "execute_result",
          "data": {
            "text/plain": [
              "[(1, 3),\n",
              " (2, 3),\n",
              " (3, 3),\n",
              " (5, 3),\n",
              " (8, 3),\n",
              " (0, 2),\n",
              " (4, 2),\n",
              " (6, 2),\n",
              " (7, 2),\n",
              " (9, 1)]"
            ]
          },
          "metadata": {},
          "execution_count": 4
        }
      ]
    },
    {
      "cell_type": "code",
      "source": [
        "# encontrando amigos com interesse em comum\n",
        "\n",
        "interests = [\n",
        "    (0, \"Hadoop\"), (0, \"Big Data\"), (0, \"HBase\"), (0, \"Java\"),\n",
        "    (0, \"Spark\"), (0, \"Storm\"), (0, \"Cassandra\"),\n",
        "    (1, \"NoSQL\"), (1, \"MongoDB\"), (1, \"Cassandra\"), (1, \"HBase\"),\n",
        "    (1, \"Postgres\"), (2, \"Python\"), (2, \"scikit-learn\"), (2, \"scipy\"),\n",
        "    (2, \"numpy\"), (2, \"statsmodels\"), (2, \"pandas\"), (3, \"R\"), (3, \"Python\"),\n",
        "    (3, \"statistics\"), (3, \"regression\"), (3, \"probability\"),\n",
        "    (4, \"machine learning\"), (4, \"regression\"), (4, \"decision trees\"),\n",
        "    (4, \"libsvm\"), (5, \"Python\"), (5, \"R\"), (5, \"Java\"), (5, \"C++\"),\n",
        "    (5, \"Haskell\"), (5, \"programming languages\"), (6, \"statistics\"),\n",
        "    (6, \"probability\"), (6, \"mathematics\"), (6, \"theory\"),\n",
        "    (7, \"machine learning\"), (7, \"scikit-learn\"), (7, \"Mahout\"),\n",
        "    (7, \"neural networks\"), (8, \"neural networks\"), (8, \"deep learning\"),\n",
        "    (8, \"Big Data\"), (8, \"artificial intelligence\"), (9, \"Hadoop\"),\n",
        "    (9, \"Java\"), (9, \"MapReduce\"), (9, \"Big Data\")\n",
        "]\n",
        "\n",
        "# chaves são interesses, valores são listas de user_ids com esse interesse\n",
        "user_ids_by_interest = defaultdict(list)\n",
        "for user_id, interest in interests:\n",
        "  user_ids_by_interest[interest].append(user_id)\n",
        "\n",
        "# # chaves são user_ids, valores são listas de interesses para aquele user_id\n",
        "interests_by_user_id = defaultdict(list)\n",
        "for user_id, interest in interests:\n",
        "   interests_by_user_id[user_id].append(interest)\n",
        "\n",
        "def most_common_interest_with(user):\n",
        "  return Counter(\n",
        "      interested_user_id\n",
        "      for interest in interests_by_user_id[user[\"id\"]]\n",
        "      for interested_user_id in user_ids_by_interest[interest]\n",
        "      if interested_user_id != user[\"id\"]  \n",
        "  )"
      ],
      "metadata": {
        "id": "zRhmwmogos4E"
      },
      "execution_count": 6,
      "outputs": []
    },
    {
      "cell_type": "code",
      "source": [
        "# salário e experiência em anos salary e tenure\n",
        "\n",
        "salaries_and_tenures = [(83000, 8.7), (88000, 8.1),\n",
        "                        (48000, 0.7), (76000, 6),\n",
        "                        (69000, 6.5), (76000, 7.5),\n",
        "                        (60000, 2.5), (83000, 10),\n",
        "                        (48000, 1.9), (63000, 4.2)]"
      ],
      "metadata": {
        "id": "Bc4klli76Kli"
      },
      "execution_count": 44,
      "outputs": []
    },
    {
      "cell_type": "code",
      "source": [
        "anos_de_experiencia = [8.7, 8.1, 0.7, 6, 6.5, 7.5, 2.5, 10, 1.9, 4.2]\n",
        "salarios = [83000, 88000, 48000, 76000, 69000, 76000, 60000, 83000, 48000, 63000]\n",
        "\n",
        "plt.scatter(anos_de_experiencia, salarios)\n",
        "\n",
        "# definir um título\n",
        "plt.title('Salário por Anos de Experiência')\n",
        "\n",
        "# definindo os labels\n",
        "plt.ylabel(\"Salário\")\n",
        "plt.xlabel(\"Anos de Experiência\")\n",
        "\n",
        "# exibir o plot\n",
        "plt.show()"
      ],
      "metadata": {
        "colab": {
          "base_uri": "https://localhost:8080/",
          "height": 473
        },
        "id": "YksSkMxkCFJH",
        "outputId": "c5ac55fa-6d50-4807-b203-1a317774a847"
      },
      "execution_count": 51,
      "outputs": [
        {
          "output_type": "display_data",
          "data": {
            "text/plain": [
              "<Figure size 640x480 with 1 Axes>"
            ],
            "image/png": "[encoded data removed]"
          },
          "metadata": {}
        }
      ]
    },
    {
      "cell_type": "code",
      "source": [
        "# As chaves são anos, os valores são listas de salários por anos de experiência\n",
        "salary_by_tenure = defaultdict(list)\n",
        "\n",
        "for salary, tenure in salaries_and_tenures:\n",
        "  salary_by_tenure[tenure].append(salary)\n",
        "\n",
        "# As chaves são anos, cada valor é o salário médio associado ao número de anos de experiência\n",
        "average_salary_by_tenure = {\n",
        "    tenure: sum(salaries) / len(salaries)\n",
        "    for tenure, salaries in salary_by_tenure.items()\n",
        "}\n",
        "\n",
        "print(average_salary_by_tenure)"
      ],
      "metadata": {
        "colab": {
          "base_uri": "https://localhost:8080/"
        },
        "id": "AyPRlJUqFjaT",
        "outputId": "3d17cbca-18fd-45d6-802e-e389a13497da"
      },
      "execution_count": 52,
      "outputs": [
        {
          "output_type": "stream",
          "name": "stdout",
          "text": [
            "{8.7: 83000.0, 8.1: 88000.0, 0.7: 48000.0, 6: 76000.0, 6.5: 69000.0, 7.5: 76000.0, 2.5: 60000.0, 10: 83000.0, 1.9: 48000.0, 4.2: 63000.0}\n"
          ]
        }
      ]
    },
    {
      "cell_type": "code",
      "source": [],
      "metadata": {
        "id": "Yds3NsB6LWd1"
      },
      "execution_count": null,
      "outputs": []
    }
  ]
}